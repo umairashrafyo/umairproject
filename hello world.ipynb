{
 "cells": [
  {
   "cell_type": "code",
   "execution_count": 31,
   "metadata": {},
   "outputs": [
    {
     "name": "stdout",
     "output_type": "stream",
     "text": [
      "<class 'int'> <class 'float'> <class 'str'> <class 'complex'>\n"
     ]
    }
   ],
   "source": [
    "#initialize variable a,b,c,d and give it integer,float,string values,complex values\n",
    "a=3\n",
    "b=2.34\n",
    "c=\"hello world\"\n",
    "d=4+9j\n",
    "print(type(a),type(b),type(c),type(d))"
   ]
  },
  {
   "cell_type": "code",
   "execution_count": 39,
   "metadata": {},
   "outputs": [
    {
     "name": "stdout",
     "output_type": "stream",
     "text": [
      "ning      4     0     deep learning subject is one of the most import\n"
     ]
    }
   ],
   "source": [
    "s=\"deep learning subject is one of the most important subjects in ai\"\n",
    "print(s[9:14],\"   \",s.count(\"o\"),\"   \",s.count(\"18\"),\"   \",s[0:-18])"
   ]
  },
  {
   "cell_type": "code",
   "execution_count": 89,
   "metadata": {},
   "outputs": [
    {
     "name": "stdout",
     "output_type": "stream",
     "text": [
      "[1, 3, 2, 5, 3, 5, 4, 5, 3] [3, 4, 32, 4, 3, 4, 54, 3] ['hi', 'i', 'am', 'manit', 'student']\n",
      "[1, 3, 2, 5, 3, 5, 4, 5, 3, 3, 4, 32, 4, 3, 4, 54, 3]\n",
      "[1, 3, 2, 5, 3, 5, 4, 5, 3, 'umair']\n",
      "[3, 4, 32, 4, 3, 4, 54, 3, 999]\n"
     ]
    }
   ],
   "source": [
    "#lists\n",
    "l1=[1,3,2,5,3,5,4,5,3]\n",
    "l2=[3,4,32,4,3,4,54,3]\n",
    "l3=[\"hi\",\"i\",\"am\",\"manit\",\"student\"]\n",
    "print(l1,l2,l3)\n",
    "l4=l1+l2\n",
    "print(l4)\n",
    "l1.append(\"umair\")\n",
    "print(l1)\n",
    "l2.insert(45,999)\n",
    "print(l2)"
   ]
  },
  {
   "cell_type": "code",
   "execution_count": 94,
   "metadata": {},
   "outputs": [
    {
     "name": "stdout",
     "output_type": "stream",
     "text": [
      "{1, 2, 3, 4, 5, 'ashraf', 'umair'}\n",
      "[1, 3, 'ashraf', 'ashraf', 'ashraf', 2, 5, 3, 5, 4, 5, 3, 'umair']\n",
      "{1, 2, 3, 4, 5, 'ashraf', 'umair'}\n"
     ]
    }
   ],
   "source": [
    "print(set(l1))\n",
    "l1.insert(2,\"ashraf\",)\n",
    "print(l1)\n",
    "print(set(l1))"
   ]
  },
  {
   "cell_type": "code",
   "execution_count": 95,
   "metadata": {},
   "outputs": [
    {
     "name": "stdout",
     "output_type": "stream",
     "text": [
      "(3, 2, 4, 2, 2, 4)\n",
      "<class 'tuple'>\n",
      "(3, 2, 4, 2)\n"
     ]
    }
   ],
   "source": [
    "#tuple\n",
    "d=(3,2,4,2,2,4)\n",
    "print(d)\n",
    "print(type(d))\n",
    "print(d[0:4])"
   ]
  },
  {
   "cell_type": "code",
   "execution_count": 96,
   "metadata": {},
   "outputs": [
    {
     "name": "stdout",
     "output_type": "stream",
     "text": [
      "{'1': 'robot1', '2': 'robot2', '3': 'robot3'}\n",
      "<class 'dict'>\n",
      "dict_keys(['1', '2', '3'])\n",
      "dict_values(['robot1', 'robot2', 'robot3'])\n",
      "{'1': 'robot1', '2': 'robot2', '3': 'robot3', 4: 'robot4'}\n"
     ]
    }
   ],
   "source": [
    "#dictionaries\n",
    "dictionary={\"1\":\"robot1\",\"2\":\"robot2\",\"3\":\"robot3\"}\n",
    "print(dictionary)\n",
    "print(type(dictionary))\n",
    "print(dictionary.keys())\n",
    "print(dictionary.values())\n",
    "dictionary[4]=\"robot4\"\n",
    "print(dictionary)"
   ]
  },
  {
   "cell_type": "code",
   "execution_count": 97,
   "metadata": {},
   "outputs": [
    {
     "name": "stdout",
     "output_type": "stream",
     "text": [
      "data_list1\n",
      "[1, 3, 4.5, 'manit', (7+9j)]\n"
     ]
    }
   ],
   "source": [
    "#dataframes\n",
    "import pandas as pd\n",
    "data_list1=[1,3,4.5,\"manit\",7+9j]\n",
    "print(\"data_list1\")\n",
    "print(data_list1)"
   ]
  },
  {
   "cell_type": "code",
   "execution_count": null,
   "metadata": {},
   "outputs": [],
   "source": []
  },
  {
   "cell_type": "code",
   "execution_count": null,
   "metadata": {},
   "outputs": [],
   "source": []
  }
 ],
 "metadata": {
  "kernelspec": {
   "display_name": "Python 3",
   "language": "python",
   "name": "python3"
  },
  "language_info": {
   "codemirror_mode": {
    "name": "ipython",
    "version": 3
   },
   "file_extension": ".py",
   "mimetype": "text/x-python",
   "name": "python",
   "nbconvert_exporter": "python",
   "pygments_lexer": "ipython3",
   "version": "3.8.5"
  }
 },
 "nbformat": 4,
 "nbformat_minor": 4
}
