{
  "nbformat": 4,
  "nbformat_minor": 0,
  "metadata": {
    "colab": {
      "name": "Untitled8.ipynb",
      "provenance": []
    },
    "kernelspec": {
      "name": "python3",
      "display_name": "Python 3"
    }
  },
  "cells": [
    {
      "cell_type": "code",
      "metadata": {
        "id": "0Re8HB8Fh8g8"
      },
      "source": [
        "from google.colab import drive\r\n",
        "drive.mount('/content/drive')"
      ],
      "execution_count": null,
      "outputs": []
    },
    {
      "cell_type": "code",
      "metadata": {
        "id": "qd-i5ek7iAJc"
      },
      "source": [
        "import numpy as np\r\n",
        "import pandas as pd\r\n",
        "import seaborn as sns\r\n",
        "import matplotlib.pyplot as plt\r\n",
        "import tensorflow as tf\r\n",
        "from keras import layers\r\n",
        "import keras\r\n",
        " \r\n",
        "%matplotlib inline"
      ],
      "execution_count": null,
      "outputs": []
    },
    {
      "cell_type": "markdown",
      "metadata": {
        "id": "3f9BumDmiChu"
      },
      "source": [
        "Modeling Data Preparation"
      ]
    },
    {
      "cell_type": "code",
      "metadata": {
        "id": "BsSzG2YYiF6C"
      },
      "source": [
        "train = pd.read_csv('/content/drive/MyDrive/Datasets/mhealth_human_activity_data/train.csv')\r\n",
        "test = pd.read_csv('/content/drive/MyDrive/Datasets/mhealth_human_activity_data/test.csv')\r\n",
        "train.shape,test.shape"
      ],
      "execution_count": null,
      "outputs": []
    },
    {
      "cell_type": "code",
      "metadata": {
        "id": "NAliWfDNiIX3"
      },
      "source": [
        "X_train = train.drop(['Activity','subject'],axis=1)\r\n",
        "y_train = train['Activity']\r\n",
        "X_test = test.drop(['Activity','subject'],axis=1)\r\n",
        "y_test = test['Activity']\r\n",
        "X_train.shape,y_train.shape,X_test.shape,y_test.shape"
      ],
      "execution_count": null,
      "outputs": []
    },
    {
      "cell_type": "code",
      "metadata": {
        "id": "ayPHwa--iKx7"
      },
      "source": [
        "from scipy import stats\r\n",
        "def create_dataset(X, y, time_steps, step=1):\r\n",
        "    Xs, ys = [], []\r\n",
        "    for i in range(0, len(X) - time_steps, step):\r\n",
        "        x = X.iloc[i:(i + time_steps)].values\r\n",
        "        labels = y.iloc[i: i + time_steps]\r\n",
        "        Xs.append(x)\r\n",
        "        ys.append(stats.mode(labels)[0][0])\r\n",
        "    return np.array(Xs), np.array(ys).reshape(-1, 1)"
      ],
      "execution_count": null,
      "outputs": []
    },
    {
      "cell_type": "code",
      "metadata": {
        "id": "gqVbCjEpieaC"
      },
      "source": [
        "\r\n",
        "X_train,y_train = create_dataset(X_train, y_train, 100, step=50)\r\n",
        "X_train.shape, y_train.shape"
      ],
      "execution_count": null,
      "outputs": []
    },
    {
      "cell_type": "code",
      "metadata": {
        "id": "aiwTAM3figsl"
      },
      "source": [
        "X_test,y_test = create_dataset(X_test, y_test, 100, step=50)\r\n",
        "X_test.shape, y_test.shape"
      ],
      "execution_count": null,
      "outputs": []
    },
    {
      "cell_type": "markdown",
      "metadata": {
        "id": "ZUN_nuQ4iixT"
      },
      "source": [
        "Model building¶\r\n"
      ]
    },
    {
      "cell_type": "code",
      "metadata": {
        "id": "qfDj2juaijJy"
      },
      "source": [
        "model = keras.Sequential()\r\n",
        "model.add(layers.Input(shape=[100,12]))\r\n",
        "model.add(layers.Conv1D(filters=32, kernel_size=3, padding=\"same\"))\r\n",
        "model.add(layers.BatchNormalization())\r\n",
        "model.add(layers.ReLU())\r\n",
        "model.add(layers.Conv1D(filters=64, kernel_size=3, padding=\"same\"))\r\n",
        "model.add(layers.BatchNormalization())\r\n",
        "model.add(layers.ReLU())\r\n",
        "model.add(layers.MaxPool1D(2))\r\n",
        "model.add(layers.LSTM(64))\r\n",
        "model.add(layers.Dense(units=128, activation='relu'))\r\n",
        "model.add(layers.Dense(13, activation='softmax'))\r\n",
        "model.summary()"
      ],
      "execution_count": null,
      "outputs": []
    },
    {
      "cell_type": "code",
      "metadata": {
        "id": "vd0Tb5_kinvc"
      },
      "source": [
        "tf.keras.utils.plot_model(model, show_shapes=True)\r\n"
      ],
      "execution_count": null,
      "outputs": []
    },
    {
      "cell_type": "code",
      "metadata": {
        "id": "a8T62gd9iqfc"
      },
      "source": [
        "allbacks = [keras.callbacks.ModelCheckpoint(\"/content/drive/MyDrive/Colab Notebooks/mHealth/mhealth_best.h5\", save_best_only=True, monitor=\"val_loss\"),\r\n",
        "             keras.callbacks.EarlyStopping(monitor=\"val_loss\", patience=50, verbose=1)]\r\n",
        " \r\n",
        "model.compile(optimizer=\"adam\", loss=\"sparse_categorical_crossentropy\", metrics=[\"sparse_categorical_accuracy\"],)\r\n",
        " \r\n",
        "model_history = model.fit(X_train,y_train, epochs= 10, validation_data=(X_test,y_test), callbacks=callbacks)"
      ],
      "execution_count": null,
      "outputs": []
    },
    {
      "cell_type": "markdown",
      "metadata": {
        "id": "7xyCs0SZitCq"
      },
      "source": [
        "Model Evaluation¶\r\n"
      ]
    },
    {
      "cell_type": "code",
      "metadata": {
        "id": "q3xxWrThitoS"
      },
      "source": [
        "model_history.history"
      ],
      "execution_count": null,
      "outputs": []
    },
    {
      "cell_type": "code",
      "metadata": {
        "id": "9u9a-1S4ivg8"
      },
      "source": [
        "train_loss = model_history.history['loss']\r\n",
        "val_loss = model_history.history['val_loss']\r\n",
        "train_accuracy = model_history.history['sparse_categorical_accuracy']\r\n",
        "val_accuracy = model_history.history['val_sparse_categorical_accuracy']\r\n",
        "\r\n",
        "plt.figure(figsize=(12,6))\r\n",
        "\r\n",
        "plt.subplot(1,2,1)\r\n",
        "plt.plot(train_loss, 'r', label='Training loss')\r\n",
        "plt.plot(val_loss, 'b', label='Validation loss')\r\n",
        "plt.title('Training and Validation Loss')\r\n",
        "plt.xlabel('Epoch')\r\n",
        "plt.ylabel('Loss Value')\r\n",
        "plt.legend()\r\n",
        "\r\n",
        "plt.subplot(1,2,2)\r\n",
        "plt.plot(train_accuracy, 'r', label='Training Accuracy')\r\n",
        "plt.plot(val_accuracy, 'b', label='Validation Accuracy')\r\n",
        "plt.title('Training and Validation Accuracy')\r\n",
        "plt.xlabel('Epoch')\r\n",
        "plt.ylabel('Accuracy')\r\n",
        "plt.legend()\r\n",
        "\r\n",
        "plt.show()"
      ],
      "execution_count": null,
      "outputs": []
    },
    {
      "cell_type": "code",
      "metadata": {
        "id": "LM6MVXCTiy0F"
      },
      "source": [
        "model = keras.models.load_model(\"/content/drive/MyDrive/Colab Notebooks/mHealth/mhealth_best.h5\")\r\n",
        "\r\n",
        "train_loss, train_acc = model.evaluate(X_train,y_train)\r\n",
        "test_loss, test_acc = model.evaluate(X_test,y_test)\r\n",
        "\r\n",
        "print(\"Train accuracy\", round(train_acc*100, 2),'%')\r\n",
        "print(\"Train loss\", train_loss)\r\n",
        "print(\"Test accuracy\", round(test_acc*100, 2),'%')\r\n",
        "print(\"Test loss\", test_loss)"
      ],
      "execution_count": null,
      "outputs": []
    },
    {
      "cell_type": "code",
      "metadata": {
        "id": "eXPEiaOTi1ab"
      },
      "source": [
        "pred = model.predict(X_test)\r\n",
        "pred = np.argmax(pred, axis = 1)\r\n",
        "pred = pred.reshape(-1,1)"
      ],
      "execution_count": null,
      "outputs": []
    },
    {
      "cell_type": "code",
      "metadata": {
        "id": "bH6U3vTpi3RR"
      },
      "source": [
        "pred.shape,y_test.shape"
      ],
      "execution_count": null,
      "outputs": []
    },
    {
      "cell_type": "code",
      "metadata": {
        "id": "HoRBfTFEi5YI"
      },
      "source": [
        "\r\n",
        "from sklearn.metrics import confusion_matrix, classification_report\r\n",
        " \r\n",
        "print(classification_report(y_test,pred))\r\n",
        "print('*'*50)\r\n",
        "print(confusion_matrix(y_test,pred))"
      ],
      "execution_count": null,
      "outputs": []
    },
    {
      "cell_type": "code",
      "metadata": {
        "id": "-SSiHpO7i878"
      },
      "source": [
        "label_map = {\r\n",
        "    0: 'Nothing',\r\n",
        "    1: 'Standing still',  \r\n",
        "    2: 'Sitting and relaxing', \r\n",
        "    3: 'Lying down',  \r\n",
        "    4: 'Walking',  \r\n",
        "    5: 'Climbing stairs',  \r\n",
        "    6: 'Waist bends forward',\r\n",
        "    7: 'Frontal elevation of arms', \r\n",
        "    8: 'Knees bending (crouching)', \r\n",
        "    9: 'Cycling', \r\n",
        "    10: 'Jogging', \r\n",
        "    11: 'Running', \r\n",
        "    12: 'Jump front & back' \r\n",
        "}"
      ],
      "execution_count": null,
      "outputs": []
    },
    {
      "cell_type": "code",
      "metadata": {
        "id": "Wt-2OCiAi_Nz"
      },
      "source": [
        "plt.figure(figsize=(12,8))\r\n",
        "conf_matrix = confusion_matrix(y_test,pred)\r\n",
        "sns.heatmap(conf_matrix, xticklabels= label_map.values(), yticklabels= label_map.values(), annot=True, fmt=\"d\")\r\n",
        "plt.show()"
      ],
      "execution_count": null,
      "outputs": []
    }
  ]
}