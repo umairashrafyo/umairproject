{
  "nbformat": 4,
  "nbformat_minor": 0,
  "metadata": {
    "colab": {
      "name": "Untitled11.ipynb",
      "provenance": []
    },
    "kernelspec": {
      "name": "python3",
      "display_name": "Python 3"
    }
  },
  "cells": [
    {
      "cell_type": "code",
      "metadata": {
        "id": "G_ZBYQojmNyb"
      },
      "source": [
        "import numpy as np\r\n",
        "import pandas as pd\r\n",
        "import matplotlib.pyplot as plt\r\n",
        "import seaborn as sns"
      ],
      "execution_count": 1,
      "outputs": []
    },
    {
      "cell_type": "code",
      "metadata": {
        "id": "l4rIn1FPmTa2"
      },
      "source": [
        "\r\n",
        "df1=pd.read_csv('https://raw.githubusercontent.com/UNCG-DAISY/Tiny_Gesture/main/data/jump_set.csv')\r\n",
        "df2=pd.read_csv('https://raw.githubusercontent.com/UNCG-DAISY/Tiny_Gesture/main/data/other_set.csv')\r\n",
        "df3=pd.read_csv('https://raw.githubusercontent.com/UNCG-DAISY/Tiny_Gesture/main/data/run_set.csv')\r\n",
        "df4=pd.read_csv('https://raw.githubusercontent.com/UNCG-DAISY/Tiny_Gesture/main/data/squat_set.csv')\r\n",
        "df5=pd.read_csv('https://raw.githubusercontent.com/UNCG-DAISY/Tiny_Gesture/main/data/walk_set.csv')\r\n"
      ],
      "execution_count": 2,
      "outputs": []
    },
    {
      "cell_type": "code",
      "metadata": {
        "id": "JGmN9hklmUJa"
      },
      "source": [
        "df1['gesture']=1\r\n",
        "df2['gesture']=2\r\n",
        "df3['gesture']=3\r\n",
        "df4['gesture']=4\r\n",
        "df5['gesture']=5"
      ],
      "execution_count": 3,
      "outputs": []
    },
    {
      "cell_type": "code",
      "metadata": {
        "id": "47G0_eYqmZp4"
      },
      "source": [
        "df=pd.concat([df1,df2,df3,df4,df5],axis=0)"
      ],
      "execution_count": 5,
      "outputs": []
    },
    {
      "cell_type": "code",
      "metadata": {
        "colab": {
          "base_uri": "https://localhost:8080/",
          "height": 195
        },
        "id": "zEA7-kwPn_uA",
        "outputId": "85f47767-14f5-4cce-ca51-9d0cd4151757"
      },
      "source": [
        "\r\n",
        "df.head()"
      ],
      "execution_count": 6,
      "outputs": [
        {
          "output_type": "execute_result",
          "data": {
            "text/html": [
              "<div>\n",
              "<style scoped>\n",
              "    .dataframe tbody tr th:only-of-type {\n",
              "        vertical-align: middle;\n",
              "    }\n",
              "\n",
              "    .dataframe tbody tr th {\n",
              "        vertical-align: top;\n",
              "    }\n",
              "\n",
              "    .dataframe thead th {\n",
              "        text-align: right;\n",
              "    }\n",
              "</style>\n",
              "<table border=\"1\" class=\"dataframe\">\n",
              "  <thead>\n",
              "    <tr style=\"text-align: right;\">\n",
              "      <th></th>\n",
              "      <th>aX</th>\n",
              "      <th>aY</th>\n",
              "      <th>aZ</th>\n",
              "      <th>gX</th>\n",
              "      <th>gY</th>\n",
              "      <th>gZ</th>\n",
              "      <th>gesture</th>\n",
              "    </tr>\n",
              "  </thead>\n",
              "  <tbody>\n",
              "    <tr>\n",
              "      <th>0</th>\n",
              "      <td>-0.868</td>\n",
              "      <td>-0.676</td>\n",
              "      <td>0.086</td>\n",
              "      <td>-60.364</td>\n",
              "      <td>62.622</td>\n",
              "      <td>97.839</td>\n",
              "      <td>1</td>\n",
              "    </tr>\n",
              "    <tr>\n",
              "      <th>1</th>\n",
              "      <td>-0.777</td>\n",
              "      <td>-0.677</td>\n",
              "      <td>0.109</td>\n",
              "      <td>-58.716</td>\n",
              "      <td>79.651</td>\n",
              "      <td>104.553</td>\n",
              "      <td>1</td>\n",
              "    </tr>\n",
              "    <tr>\n",
              "      <th>2</th>\n",
              "      <td>-0.737</td>\n",
              "      <td>-0.622</td>\n",
              "      <td>0.066</td>\n",
              "      <td>-40.039</td>\n",
              "      <td>61.951</td>\n",
              "      <td>102.356</td>\n",
              "      <td>1</td>\n",
              "    </tr>\n",
              "    <tr>\n",
              "      <th>3</th>\n",
              "      <td>-0.727</td>\n",
              "      <td>-0.403</td>\n",
              "      <td>0.017</td>\n",
              "      <td>-14.832</td>\n",
              "      <td>33.936</td>\n",
              "      <td>95.459</td>\n",
              "      <td>1</td>\n",
              "    </tr>\n",
              "    <tr>\n",
              "      <th>4</th>\n",
              "      <td>-0.689</td>\n",
              "      <td>-0.249</td>\n",
              "      <td>-0.048</td>\n",
              "      <td>6.348</td>\n",
              "      <td>14.771</td>\n",
              "      <td>86.975</td>\n",
              "      <td>1</td>\n",
              "    </tr>\n",
              "  </tbody>\n",
              "</table>\n",
              "</div>"
            ],
            "text/plain": [
              "      aX     aY     aZ      gX      gY       gZ  gesture\n",
              "0 -0.868 -0.676  0.086 -60.364  62.622   97.839        1\n",
              "1 -0.777 -0.677  0.109 -58.716  79.651  104.553        1\n",
              "2 -0.737 -0.622  0.066 -40.039  61.951  102.356        1\n",
              "3 -0.727 -0.403  0.017 -14.832  33.936   95.459        1\n",
              "4 -0.689 -0.249 -0.048   6.348  14.771   86.975        1"
            ]
          },
          "metadata": {
            "tags": []
          },
          "execution_count": 6
        }
      ]
    },
    {
      "cell_type": "code",
      "metadata": {
        "id": "IgeC4_vKoBv8"
      },
      "source": [
        "d=pd.get_dummies(df,columns=['gesture'])\r\n"
      ],
      "execution_count": 7,
      "outputs": []
    },
    {
      "cell_type": "code",
      "metadata": {
        "colab": {
          "base_uri": "https://localhost:8080/",
          "height": 402
        },
        "id": "ZuhaUPSioDvt",
        "outputId": "40efa9a9-44f2-4849-a439-3272c5043be1"
      },
      "source": [
        "d"
      ],
      "execution_count": 8,
      "outputs": [
        {
          "output_type": "execute_result",
          "data": {
            "text/html": [
              "<div>\n",
              "<style scoped>\n",
              "    .dataframe tbody tr th:only-of-type {\n",
              "        vertical-align: middle;\n",
              "    }\n",
              "\n",
              "    .dataframe tbody tr th {\n",
              "        vertical-align: top;\n",
              "    }\n",
              "\n",
              "    .dataframe thead th {\n",
              "        text-align: right;\n",
              "    }\n",
              "</style>\n",
              "<table border=\"1\" class=\"dataframe\">\n",
              "  <thead>\n",
              "    <tr style=\"text-align: right;\">\n",
              "      <th></th>\n",
              "      <th>aX</th>\n",
              "      <th>aY</th>\n",
              "      <th>aZ</th>\n",
              "      <th>gX</th>\n",
              "      <th>gY</th>\n",
              "      <th>gZ</th>\n",
              "      <th>gesture_1</th>\n",
              "      <th>gesture_2</th>\n",
              "      <th>gesture_3</th>\n",
              "      <th>gesture_4</th>\n",
              "      <th>gesture_5</th>\n",
              "    </tr>\n",
              "  </thead>\n",
              "  <tbody>\n",
              "    <tr>\n",
              "      <th>0</th>\n",
              "      <td>-0.868</td>\n",
              "      <td>-0.676</td>\n",
              "      <td>0.086</td>\n",
              "      <td>-60.364</td>\n",
              "      <td>62.622</td>\n",
              "      <td>97.839</td>\n",
              "      <td>1</td>\n",
              "      <td>0</td>\n",
              "      <td>0</td>\n",
              "      <td>0</td>\n",
              "      <td>0</td>\n",
              "    </tr>\n",
              "    <tr>\n",
              "      <th>1</th>\n",
              "      <td>-0.777</td>\n",
              "      <td>-0.677</td>\n",
              "      <td>0.109</td>\n",
              "      <td>-58.716</td>\n",
              "      <td>79.651</td>\n",
              "      <td>104.553</td>\n",
              "      <td>1</td>\n",
              "      <td>0</td>\n",
              "      <td>0</td>\n",
              "      <td>0</td>\n",
              "      <td>0</td>\n",
              "    </tr>\n",
              "    <tr>\n",
              "      <th>2</th>\n",
              "      <td>-0.737</td>\n",
              "      <td>-0.622</td>\n",
              "      <td>0.066</td>\n",
              "      <td>-40.039</td>\n",
              "      <td>61.951</td>\n",
              "      <td>102.356</td>\n",
              "      <td>1</td>\n",
              "      <td>0</td>\n",
              "      <td>0</td>\n",
              "      <td>0</td>\n",
              "      <td>0</td>\n",
              "    </tr>\n",
              "    <tr>\n",
              "      <th>3</th>\n",
              "      <td>-0.727</td>\n",
              "      <td>-0.403</td>\n",
              "      <td>0.017</td>\n",
              "      <td>-14.832</td>\n",
              "      <td>33.936</td>\n",
              "      <td>95.459</td>\n",
              "      <td>1</td>\n",
              "      <td>0</td>\n",
              "      <td>0</td>\n",
              "      <td>0</td>\n",
              "      <td>0</td>\n",
              "    </tr>\n",
              "    <tr>\n",
              "      <th>4</th>\n",
              "      <td>-0.689</td>\n",
              "      <td>-0.249</td>\n",
              "      <td>-0.048</td>\n",
              "      <td>6.348</td>\n",
              "      <td>14.771</td>\n",
              "      <td>86.975</td>\n",
              "      <td>1</td>\n",
              "      <td>0</td>\n",
              "      <td>0</td>\n",
              "      <td>0</td>\n",
              "      <td>0</td>\n",
              "    </tr>\n",
              "    <tr>\n",
              "      <th>...</th>\n",
              "      <td>...</td>\n",
              "      <td>...</td>\n",
              "      <td>...</td>\n",
              "      <td>...</td>\n",
              "      <td>...</td>\n",
              "      <td>...</td>\n",
              "      <td>...</td>\n",
              "      <td>...</td>\n",
              "      <td>...</td>\n",
              "      <td>...</td>\n",
              "      <td>...</td>\n",
              "    </tr>\n",
              "    <tr>\n",
              "      <th>11895</th>\n",
              "      <td>-0.983</td>\n",
              "      <td>-0.046</td>\n",
              "      <td>-0.069</td>\n",
              "      <td>2.747</td>\n",
              "      <td>-0.122</td>\n",
              "      <td>-0.793</td>\n",
              "      <td>0</td>\n",
              "      <td>0</td>\n",
              "      <td>0</td>\n",
              "      <td>0</td>\n",
              "      <td>1</td>\n",
              "    </tr>\n",
              "    <tr>\n",
              "      <th>11896</th>\n",
              "      <td>-0.985</td>\n",
              "      <td>-0.043</td>\n",
              "      <td>-0.071</td>\n",
              "      <td>3.174</td>\n",
              "      <td>-1.038</td>\n",
              "      <td>-0.671</td>\n",
              "      <td>0</td>\n",
              "      <td>0</td>\n",
              "      <td>0</td>\n",
              "      <td>0</td>\n",
              "      <td>1</td>\n",
              "    </tr>\n",
              "    <tr>\n",
              "      <th>11897</th>\n",
              "      <td>-0.984</td>\n",
              "      <td>-0.042</td>\n",
              "      <td>-0.061</td>\n",
              "      <td>2.991</td>\n",
              "      <td>-0.549</td>\n",
              "      <td>-0.244</td>\n",
              "      <td>0</td>\n",
              "      <td>0</td>\n",
              "      <td>0</td>\n",
              "      <td>0</td>\n",
              "      <td>1</td>\n",
              "    </tr>\n",
              "    <tr>\n",
              "      <th>11898</th>\n",
              "      <td>-0.983</td>\n",
              "      <td>-0.050</td>\n",
              "      <td>-0.063</td>\n",
              "      <td>2.808</td>\n",
              "      <td>-0.732</td>\n",
              "      <td>0.122</td>\n",
              "      <td>0</td>\n",
              "      <td>0</td>\n",
              "      <td>0</td>\n",
              "      <td>0</td>\n",
              "      <td>1</td>\n",
              "    </tr>\n",
              "    <tr>\n",
              "      <th>11899</th>\n",
              "      <td>-0.977</td>\n",
              "      <td>-0.043</td>\n",
              "      <td>-0.061</td>\n",
              "      <td>3.479</td>\n",
              "      <td>-1.038</td>\n",
              "      <td>-0.244</td>\n",
              "      <td>0</td>\n",
              "      <td>0</td>\n",
              "      <td>0</td>\n",
              "      <td>0</td>\n",
              "      <td>1</td>\n",
              "    </tr>\n",
              "  </tbody>\n",
              "</table>\n",
              "<p>59500 rows × 11 columns</p>\n",
              "</div>"
            ],
            "text/plain": [
              "          aX     aY     aZ      gX  ...  gesture_2  gesture_3  gesture_4  gesture_5\n",
              "0     -0.868 -0.676  0.086 -60.364  ...          0          0          0          0\n",
              "1     -0.777 -0.677  0.109 -58.716  ...          0          0          0          0\n",
              "2     -0.737 -0.622  0.066 -40.039  ...          0          0          0          0\n",
              "3     -0.727 -0.403  0.017 -14.832  ...          0          0          0          0\n",
              "4     -0.689 -0.249 -0.048   6.348  ...          0          0          0          0\n",
              "...      ...    ...    ...     ...  ...        ...        ...        ...        ...\n",
              "11895 -0.983 -0.046 -0.069   2.747  ...          0          0          0          1\n",
              "11896 -0.985 -0.043 -0.071   3.174  ...          0          0          0          1\n",
              "11897 -0.984 -0.042 -0.061   2.991  ...          0          0          0          1\n",
              "11898 -0.983 -0.050 -0.063   2.808  ...          0          0          0          1\n",
              "11899 -0.977 -0.043 -0.061   3.479  ...          0          0          0          1\n",
              "\n",
              "[59500 rows x 11 columns]"
            ]
          },
          "metadata": {
            "tags": []
          },
          "execution_count": 8
        }
      ]
    },
    {
      "cell_type": "code",
      "metadata": {
        "id": "v9pjDjR7oGgX"
      },
      "source": [
        "from sklearn.model_selection import train_test_split"
      ],
      "execution_count": 9,
      "outputs": []
    },
    {
      "cell_type": "code",
      "metadata": {
        "id": "HuZB8RphoIy7"
      },
      "source": [
        "x=d[['aX','aY','aZ','gX','gY','gZ']]\r\n",
        "y=d[['gesture_1','gesture_2','gesture_3','gesture_4','gesture_5']]"
      ],
      "execution_count": 10,
      "outputs": []
    },
    {
      "cell_type": "code",
      "metadata": {
        "colab": {
          "base_uri": "https://localhost:8080/"
        },
        "id": "sRHKrdEQoKjX",
        "outputId": "739d012f-d74e-4c0d-8403-f74a28859a27"
      },
      "source": [
        "x.shape"
      ],
      "execution_count": 11,
      "outputs": [
        {
          "output_type": "execute_result",
          "data": {
            "text/plain": [
              "(59500, 6)"
            ]
          },
          "metadata": {
            "tags": []
          },
          "execution_count": 11
        }
      ]
    },
    {
      "cell_type": "code",
      "metadata": {
        "id": "ZpqWTPqBoNk_"
      },
      "source": [
        "x_train, x_test, y_train, y_test = train_test_split(x, y, test_size=0.33, random_state=42)\r\n"
      ],
      "execution_count": 12,
      "outputs": []
    },
    {
      "cell_type": "code",
      "metadata": {
        "colab": {
          "base_uri": "https://localhost:8080/",
          "height": 402
        },
        "id": "NfS-0SOtoQ7Z",
        "outputId": "58438ff1-9238-4157-88d6-d3860147d829"
      },
      "source": [
        "y_train\r\n"
      ],
      "execution_count": 13,
      "outputs": [
        {
          "output_type": "execute_result",
          "data": {
            "text/html": [
              "<div>\n",
              "<style scoped>\n",
              "    .dataframe tbody tr th:only-of-type {\n",
              "        vertical-align: middle;\n",
              "    }\n",
              "\n",
              "    .dataframe tbody tr th {\n",
              "        vertical-align: top;\n",
              "    }\n",
              "\n",
              "    .dataframe thead th {\n",
              "        text-align: right;\n",
              "    }\n",
              "</style>\n",
              "<table border=\"1\" class=\"dataframe\">\n",
              "  <thead>\n",
              "    <tr style=\"text-align: right;\">\n",
              "      <th></th>\n",
              "      <th>gesture_1</th>\n",
              "      <th>gesture_2</th>\n",
              "      <th>gesture_3</th>\n",
              "      <th>gesture_4</th>\n",
              "      <th>gesture_5</th>\n",
              "    </tr>\n",
              "  </thead>\n",
              "  <tbody>\n",
              "    <tr>\n",
              "      <th>7720</th>\n",
              "      <td>0</td>\n",
              "      <td>0</td>\n",
              "      <td>1</td>\n",
              "      <td>0</td>\n",
              "      <td>0</td>\n",
              "    </tr>\n",
              "    <tr>\n",
              "      <th>5489</th>\n",
              "      <td>1</td>\n",
              "      <td>0</td>\n",
              "      <td>0</td>\n",
              "      <td>0</td>\n",
              "      <td>0</td>\n",
              "    </tr>\n",
              "    <tr>\n",
              "      <th>2065</th>\n",
              "      <td>0</td>\n",
              "      <td>0</td>\n",
              "      <td>0</td>\n",
              "      <td>1</td>\n",
              "      <td>0</td>\n",
              "    </tr>\n",
              "    <tr>\n",
              "      <th>6982</th>\n",
              "      <td>0</td>\n",
              "      <td>0</td>\n",
              "      <td>0</td>\n",
              "      <td>1</td>\n",
              "      <td>0</td>\n",
              "    </tr>\n",
              "    <tr>\n",
              "      <th>3940</th>\n",
              "      <td>0</td>\n",
              "      <td>0</td>\n",
              "      <td>0</td>\n",
              "      <td>0</td>\n",
              "      <td>1</td>\n",
              "    </tr>\n",
              "    <tr>\n",
              "      <th>...</th>\n",
              "      <td>...</td>\n",
              "      <td>...</td>\n",
              "      <td>...</td>\n",
              "      <td>...</td>\n",
              "      <td>...</td>\n",
              "    </tr>\n",
              "    <tr>\n",
              "      <th>6743</th>\n",
              "      <td>0</td>\n",
              "      <td>0</td>\n",
              "      <td>0</td>\n",
              "      <td>0</td>\n",
              "      <td>1</td>\n",
              "    </tr>\n",
              "    <tr>\n",
              "      <th>2458</th>\n",
              "      <td>0</td>\n",
              "      <td>0</td>\n",
              "      <td>0</td>\n",
              "      <td>1</td>\n",
              "      <td>0</td>\n",
              "    </tr>\n",
              "    <tr>\n",
              "      <th>860</th>\n",
              "      <td>1</td>\n",
              "      <td>0</td>\n",
              "      <td>0</td>\n",
              "      <td>0</td>\n",
              "      <td>0</td>\n",
              "    </tr>\n",
              "    <tr>\n",
              "      <th>3895</th>\n",
              "      <td>0</td>\n",
              "      <td>1</td>\n",
              "      <td>0</td>\n",
              "      <td>0</td>\n",
              "      <td>0</td>\n",
              "    </tr>\n",
              "    <tr>\n",
              "      <th>8822</th>\n",
              "      <td>0</td>\n",
              "      <td>0</td>\n",
              "      <td>0</td>\n",
              "      <td>0</td>\n",
              "      <td>1</td>\n",
              "    </tr>\n",
              "  </tbody>\n",
              "</table>\n",
              "<p>39865 rows × 5 columns</p>\n",
              "</div>"
            ],
            "text/plain": [
              "      gesture_1  gesture_2  gesture_3  gesture_4  gesture_5\n",
              "7720          0          0          1          0          0\n",
              "5489          1          0          0          0          0\n",
              "2065          0          0          0          1          0\n",
              "6982          0          0          0          1          0\n",
              "3940          0          0          0          0          1\n",
              "...         ...        ...        ...        ...        ...\n",
              "6743          0          0          0          0          1\n",
              "2458          0          0          0          1          0\n",
              "860           1          0          0          0          0\n",
              "3895          0          1          0          0          0\n",
              "8822          0          0          0          0          1\n",
              "\n",
              "[39865 rows x 5 columns]"
            ]
          },
          "metadata": {
            "tags": []
          },
          "execution_count": 13
        }
      ]
    },
    {
      "cell_type": "code",
      "metadata": {
        "id": "NRvziajroR_R"
      },
      "source": [
        "from sklearn.preprocessing import MinMaxScaler\r\n"
      ],
      "execution_count": 14,
      "outputs": []
    },
    {
      "cell_type": "code",
      "metadata": {
        "id": "BBeC8vGNoVTR"
      },
      "source": [
        "\r\n",
        "sc=MinMaxScaler()"
      ],
      "execution_count": 15,
      "outputs": []
    },
    {
      "cell_type": "code",
      "metadata": {
        "colab": {
          "base_uri": "https://localhost:8080/"
        },
        "id": "P1K8VLVJoYHG",
        "outputId": "aaccb92c-331c-4076-c3a6-0e20652542fe"
      },
      "source": [
        "sc.fit(x_train)\r\n"
      ],
      "execution_count": 17,
      "outputs": [
        {
          "output_type": "execute_result",
          "data": {
            "text/plain": [
              "MinMaxScaler(copy=True, feature_range=(0, 1))"
            ]
          },
          "metadata": {
            "tags": []
          },
          "execution_count": 17
        }
      ]
    },
    {
      "cell_type": "code",
      "metadata": {
        "id": "xz-TKpc3oat8"
      },
      "source": [
        "x_train=sc.transform(x_train)\r\n"
      ],
      "execution_count": 18,
      "outputs": []
    },
    {
      "cell_type": "code",
      "metadata": {
        "id": "o5FBdfypoddj"
      },
      "source": [
        "x_test=sc.transform(x_test)\r\n"
      ],
      "execution_count": 19,
      "outputs": []
    },
    {
      "cell_type": "code",
      "metadata": {
        "colab": {
          "base_uri": "https://localhost:8080/",
          "height": 402
        },
        "id": "ww0Lv2qaofhG",
        "outputId": "04edbff5-260f-4a93-bdff-435b7644e6a8"
      },
      "source": [
        "y_test"
      ],
      "execution_count": 20,
      "outputs": [
        {
          "output_type": "execute_result",
          "data": {
            "text/html": [
              "<div>\n",
              "<style scoped>\n",
              "    .dataframe tbody tr th:only-of-type {\n",
              "        vertical-align: middle;\n",
              "    }\n",
              "\n",
              "    .dataframe tbody tr th {\n",
              "        vertical-align: top;\n",
              "    }\n",
              "\n",
              "    .dataframe thead th {\n",
              "        text-align: right;\n",
              "    }\n",
              "</style>\n",
              "<table border=\"1\" class=\"dataframe\">\n",
              "  <thead>\n",
              "    <tr style=\"text-align: right;\">\n",
              "      <th></th>\n",
              "      <th>gesture_1</th>\n",
              "      <th>gesture_2</th>\n",
              "      <th>gesture_3</th>\n",
              "      <th>gesture_4</th>\n",
              "      <th>gesture_5</th>\n",
              "    </tr>\n",
              "  </thead>\n",
              "  <tbody>\n",
              "    <tr>\n",
              "      <th>10289</th>\n",
              "      <td>1</td>\n",
              "      <td>0</td>\n",
              "      <td>0</td>\n",
              "      <td>0</td>\n",
              "      <td>0</td>\n",
              "    </tr>\n",
              "    <tr>\n",
              "      <th>2128</th>\n",
              "      <td>0</td>\n",
              "      <td>0</td>\n",
              "      <td>1</td>\n",
              "      <td>0</td>\n",
              "      <td>0</td>\n",
              "    </tr>\n",
              "    <tr>\n",
              "      <th>10880</th>\n",
              "      <td>1</td>\n",
              "      <td>0</td>\n",
              "      <td>0</td>\n",
              "      <td>0</td>\n",
              "      <td>0</td>\n",
              "    </tr>\n",
              "    <tr>\n",
              "      <th>3894</th>\n",
              "      <td>0</td>\n",
              "      <td>0</td>\n",
              "      <td>1</td>\n",
              "      <td>0</td>\n",
              "      <td>0</td>\n",
              "    </tr>\n",
              "    <tr>\n",
              "      <th>9311</th>\n",
              "      <td>1</td>\n",
              "      <td>0</td>\n",
              "      <td>0</td>\n",
              "      <td>0</td>\n",
              "      <td>0</td>\n",
              "    </tr>\n",
              "    <tr>\n",
              "      <th>...</th>\n",
              "      <td>...</td>\n",
              "      <td>...</td>\n",
              "      <td>...</td>\n",
              "      <td>...</td>\n",
              "      <td>...</td>\n",
              "    </tr>\n",
              "    <tr>\n",
              "      <th>9318</th>\n",
              "      <td>0</td>\n",
              "      <td>0</td>\n",
              "      <td>0</td>\n",
              "      <td>1</td>\n",
              "      <td>0</td>\n",
              "    </tr>\n",
              "    <tr>\n",
              "      <th>10411</th>\n",
              "      <td>0</td>\n",
              "      <td>0</td>\n",
              "      <td>0</td>\n",
              "      <td>1</td>\n",
              "      <td>0</td>\n",
              "    </tr>\n",
              "    <tr>\n",
              "      <th>4226</th>\n",
              "      <td>1</td>\n",
              "      <td>0</td>\n",
              "      <td>0</td>\n",
              "      <td>0</td>\n",
              "      <td>0</td>\n",
              "    </tr>\n",
              "    <tr>\n",
              "      <th>4185</th>\n",
              "      <td>1</td>\n",
              "      <td>0</td>\n",
              "      <td>0</td>\n",
              "      <td>0</td>\n",
              "      <td>0</td>\n",
              "    </tr>\n",
              "    <tr>\n",
              "      <th>9037</th>\n",
              "      <td>1</td>\n",
              "      <td>0</td>\n",
              "      <td>0</td>\n",
              "      <td>0</td>\n",
              "      <td>0</td>\n",
              "    </tr>\n",
              "  </tbody>\n",
              "</table>\n",
              "<p>19635 rows × 5 columns</p>\n",
              "</div>"
            ],
            "text/plain": [
              "       gesture_1  gesture_2  gesture_3  gesture_4  gesture_5\n",
              "10289          1          0          0          0          0\n",
              "2128           0          0          1          0          0\n",
              "10880          1          0          0          0          0\n",
              "3894           0          0          1          0          0\n",
              "9311           1          0          0          0          0\n",
              "...          ...        ...        ...        ...        ...\n",
              "9318           0          0          0          1          0\n",
              "10411          0          0          0          1          0\n",
              "4226           1          0          0          0          0\n",
              "4185           1          0          0          0          0\n",
              "9037           1          0          0          0          0\n",
              "\n",
              "[19635 rows x 5 columns]"
            ]
          },
          "metadata": {
            "tags": []
          },
          "execution_count": 20
        }
      ]
    },
    {
      "cell_type": "code",
      "metadata": {
        "id": "UBhwF71sohyr"
      },
      "source": [
        ""
      ],
      "execution_count": 20,
      "outputs": []
    },
    {
      "cell_type": "code",
      "metadata": {
        "id": "IdQ0KDF2okJT"
      },
      "source": [
        "from tensorflow.keras.models import Sequential\r\n",
        "from tensorflow.keras.layers import Dense,Dropout"
      ],
      "execution_count": 21,
      "outputs": []
    },
    {
      "cell_type": "code",
      "metadata": {
        "id": "LNPSyhMXomYG"
      },
      "source": [
        "model=Sequential()\r\n",
        "model.add(Dense(512,activation='relu',input_dim=6))\r\n",
        "model.add(Dense(256,activation='relu'))\r\n",
        "model.add(Dense(128,activation='relu'))\r\n",
        "\r\n",
        "model.add(Dense(5,activation='softmax'))\r\n",
        "model.compile(loss='categorical_crossentropy',optimizer='adam',metrics=['accuracy'])"
      ],
      "execution_count": 22,
      "outputs": []
    },
    {
      "cell_type": "code",
      "metadata": {
        "colab": {
          "base_uri": "https://localhost:8080/"
        },
        "id": "lm4j8_jropZ5",
        "outputId": "7f789c62-e6c1-4915-d925-58307ac88ca9"
      },
      "source": [
        "\r\n",
        "model.summary()"
      ],
      "execution_count": 23,
      "outputs": [
        {
          "output_type": "stream",
          "text": [
            "Model: \"sequential\"\n",
            "_________________________________________________________________\n",
            "Layer (type)                 Output Shape              Param #   \n",
            "=================================================================\n",
            "dense (Dense)                (None, 512)               3584      \n",
            "_________________________________________________________________\n",
            "dense_1 (Dense)              (None, 256)               131328    \n",
            "_________________________________________________________________\n",
            "dense_2 (Dense)              (None, 128)               32896     \n",
            "_________________________________________________________________\n",
            "dense_3 (Dense)              (None, 5)                 645       \n",
            "=================================================================\n",
            "Total params: 168,453\n",
            "Trainable params: 168,453\n",
            "Non-trainable params: 0\n",
            "_________________________________________________________________\n"
          ],
          "name": "stdout"
        }
      ]
    },
    {
      "cell_type": "code",
      "metadata": {
        "colab": {
          "base_uri": "https://localhost:8080/"
        },
        "id": "yt60tOI-or8t",
        "outputId": "bff3153f-5038-472b-864d-dc46c9ac8306"
      },
      "source": [
        "model.fit(x=x_train,y=y_train,epochs=5)"
      ],
      "execution_count": 24,
      "outputs": [
        {
          "output_type": "stream",
          "text": [
            "Epoch 1/5\n",
            "1246/1246 [==============================] - 5s 4ms/step - loss: 1.3120 - accuracy: 0.3951\n",
            "Epoch 2/5\n",
            "1246/1246 [==============================] - 5s 4ms/step - loss: 0.9501 - accuracy: 0.5788\n",
            "Epoch 3/5\n",
            "1246/1246 [==============================] - 5s 4ms/step - loss: 0.7732 - accuracy: 0.6674\n",
            "Epoch 4/5\n",
            "1246/1246 [==============================] - 5s 4ms/step - loss: 0.7262 - accuracy: 0.6904\n",
            "Epoch 5/5\n",
            "1246/1246 [==============================] - 5s 4ms/step - loss: 0.6894 - accuracy: 0.7102\n"
          ],
          "name": "stdout"
        },
        {
          "output_type": "execute_result",
          "data": {
            "text/plain": [
              "<tensorflow.python.keras.callbacks.History at 0x7f8f3398b748>"
            ]
          },
          "metadata": {
            "tags": []
          },
          "execution_count": 24
        }
      ]
    },
    {
      "cell_type": "code",
      "metadata": {
        "id": "ACzd-7svossb"
      },
      "source": [
        "p=model.predict(x_test)"
      ],
      "execution_count": 25,
      "outputs": []
    },
    {
      "cell_type": "code",
      "metadata": {
        "colab": {
          "base_uri": "https://localhost:8080/"
        },
        "id": "nrcAhrLnovMx",
        "outputId": "787f0842-c5f0-42a1-fd43-d24b1e571863"
      },
      "source": [
        "p"
      ],
      "execution_count": 26,
      "outputs": [
        {
          "output_type": "execute_result",
          "data": {
            "text/plain": [
              "array([[1.5988383e-01, 1.9969069e-10, 4.7562385e-01, 1.4391217e-01,\n",
              "        2.2058015e-01],\n",
              "       [2.2805677e-01, 5.2837333e-07, 4.5286459e-01, 1.7253613e-01,\n",
              "        1.4654198e-01],\n",
              "       [4.4998154e-01, 2.0521432e-07, 2.0945482e-01, 1.8381079e-01,\n",
              "        1.5675260e-01],\n",
              "       ...,\n",
              "       [4.8176485e-01, 4.5450674e-06, 1.6990985e-01, 1.8861951e-01,\n",
              "        1.5970129e-01],\n",
              "       [1.8070245e-01, 2.8054179e-05, 8.1926507e-01, 3.5157683e-08,\n",
              "        4.4990143e-06],\n",
              "       [2.9304552e-01, 6.4093700e-07, 1.7676699e-01, 1.0080650e-01,\n",
              "        4.2938045e-01]], dtype=float32)"
            ]
          },
          "metadata": {
            "tags": []
          },
          "execution_count": 26
        }
      ]
    },
    {
      "cell_type": "code",
      "metadata": {
        "colab": {
          "base_uri": "https://localhost:8080/"
        },
        "id": "pIpqbKnGoxPB",
        "outputId": "0dc57826-3d62-41a2-d2de-02cf46151e4b"
      },
      "source": [
        "pp=p.argmax(axis=1)\r\n",
        "j=y_test.values\r\n",
        "jj=j.argmax(axis=1)\r\n",
        "len(jj[jj==1])\r\n"
      ],
      "execution_count": 29,
      "outputs": [
        {
          "output_type": "execute_result",
          "data": {
            "text/plain": [
              "3867"
            ]
          },
          "metadata": {
            "tags": []
          },
          "execution_count": 29
        }
      ]
    },
    {
      "cell_type": "code",
      "metadata": {
        "colab": {
          "base_uri": "https://localhost:8080/"
        },
        "id": "nkyyM_jTo6qG",
        "outputId": "3233ef1a-0808-4460-94ba-9cacb4306ee9"
      },
      "source": [
        "from sklearn.metrics import confusion_matrix\r\n",
        "print(confusion_matrix(jj,pp))\r\n"
      ],
      "execution_count": 30,
      "outputs": [
        {
          "output_type": "stream",
          "text": [
            "[[2750    9  438  433  357]\n",
            " [   4 3694   12    1  156]\n",
            " [ 695   10 2193  754  227]\n",
            " [1084   13  302 2393  115]\n",
            " [ 229   17   73   24 3652]]\n"
          ],
          "name": "stdout"
        }
      ]
    },
    {
      "cell_type": "code",
      "metadata": {
        "id": "MBXmN2rko-8n"
      },
      "source": [
        ""
      ],
      "execution_count": 28,
      "outputs": []
    }
  ]
}