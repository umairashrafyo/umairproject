{
  "nbformat": 4,
  "nbformat_minor": 0,
  "metadata": {
    "colab": {
      "name": "Untitled9.ipynb",
      "provenance": []
    },
    "kernelspec": {
      "name": "python3",
      "display_name": "Python 3"
    }
  },
  "cells": [
    {
      "cell_type": "code",
      "metadata": {
        "id": "KfJsAKAYjQkf"
      },
      "source": [
        "import numpy as np\r\n",
        "import matplotlib.pyplot as plt"
      ],
      "execution_count": null,
      "outputs": []
    },
    {
      "cell_type": "code",
      "metadata": {
        "id": "3_C0PgNIkXxT"
      },
      "source": [
        "x=np.arange(-1,1,0.001)\r\n",
        "def func(x):\r\n",
        "    f=x**8+x**7+x**4+x**5-x\r\n",
        "    return f\r\n",
        "def diff(x):\r\n",
        "    df=8*x**7+4*x**3+5*x**4-1+7*x**6\r\n",
        "    return df"
      ],
      "execution_count": null,
      "outputs": []
    },
    {
      "cell_type": "code",
      "metadata": {
        "id": "F2GT-VMCkZwi"
      },
      "source": [
        "plt.plot(x,f)"
      ],
      "execution_count": null,
      "outputs": []
    },
    {
      "cell_type": "code",
      "metadata": {
        "id": "P0JYYCBfkfED"
      },
      "source": [
        "rate=0.0001\r\n",
        "c=-0.75\r\n",
        "acc=0.1\r\n",
        "s=1\r\n",
        "while s>0.00000001:\r\n",
        "    p=c\r\n",
        "    c=c-rate*diff(p)\r\n",
        "    s=abs(p-c)"
      ],
      "execution_count": null,
      "outputs": []
    },
    {
      "cell_type": "code",
      "metadata": {
        "id": "5TTHvrlBkg6O"
      },
      "source": [
        "plt.plot(x,f)\r\n",
        "plt.plot(c,func(c),'r+')"
      ],
      "execution_count": null,
      "outputs": []
    },
    {
      "cell_type": "code",
      "metadata": {
        "id": "0aGGGNaikjFV"
      },
      "source": [
        ""
      ],
      "execution_count": null,
      "outputs": []
    }
  ]
}